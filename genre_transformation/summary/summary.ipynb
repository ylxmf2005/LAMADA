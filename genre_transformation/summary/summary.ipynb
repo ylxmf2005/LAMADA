{
 "cells": [
  {
   "cell_type": "code",
   "execution_count": 18,
   "metadata": {},
   "outputs": [],
   "source": [
    "# No need to use APE.\n",
    "import os\n",
    "os.chdir('../..')\n",
    "import dspy\n",
    "from dotenv import load_dotenv\n",
    "from dspy.datasets import DataLoader\n",
    "from llm_api import LLM_API\n",
    "\n",
    "overall_summary = \"\"\"\n",
    "{text}\n",
    "As a professional summarizer, create a concise and comprehensive summary of the provided text, be it an article, post, conversation, or passage, while adhering to these guidelines:\n",
    "Craft a summary that is detailed, thorough, in-depth, and complex, while maintaining clarity and conciseness.\n",
    "Incorporate main ideas and essential information, eliminating extraneous language and focusing on critical aspects.\n",
    "Rely strictly on the provided text, without including external information.\n",
    "Format the summary in paragraph form for easy understanding.\n",
    "Conclude your notes with [End of Notes, Message #X] to indicate completion, where \"X\" represents the total number of messages that I have sent. In other words, include a message counter where you start with #1 and add 1 to the message counter every time I send a message.\n",
    "By following this optimized prompt, you will generate an effective summary that encapsulates the essence of the given text in a clear, concise, and reader-friendly manner.\n",
    "\"\"\"\n",
    "\n",
    "different_perspectives = \"\"\"\n",
    "{text}\n",
    "As a professional summarizer, summarize this text from at most 5 different perspectives. Each perspective you pick should be content-rich and reflect specific insights or themes found in the original text. Avoid generic perspective like content overview.\n",
    "The summaries should be a orderded list, insightful, and tailored to the text's nuances and themes.\n",
    "\"\"\"\n",
    "\n",
    "gradually_expanding = \"\"\"\n",
    "{text}\n",
    "Summarize TEXT by producing a series of summaries, starting with a one-sentence summary and then creating subsequent summaries that are each about twice as long as their predecessor. It is essential that each summary is a complete and thorough representation of TEXT, independent of the other summaries, so that the reader can understand the content without needing to refer to any of the other summaries for context or clarification. Create a total of 3-5 independent summaries of progressively increasing size.\n",
    "\"\"\""
   ]
  },
  {
   "cell_type": "code",
   "execution_count": 5,
   "metadata": {},
   "outputs": [
    {
     "name": "stderr",
     "output_type": "stream",
     "text": [
      "Downloading data files: 100%|██████████| 1/1 [00:00<00:00, 10205.12it/s]\n",
      "Extracting data files: 100%|██████████| 1/1 [00:00<00:00, 48.19it/s]\n",
      "Generating train split: 1923 examples [00:00, 15738.71 examples/s]\n"
     ]
    },
    {
     "name": "stdout",
     "output_type": "stream",
     "text": [
      "1538 385\n",
      "Example({'text': \"['Examples\\\\nprint /d:lpt2 \\\\nprint /d:\\\\\\\\\\\\\\\\copyroom\\\\\\\\printer1 c:\\\\\\\\accounting\\\\\\\\\\\\nAdditional referencesAdditional references\\\\nTo send the file  in the current directory to a printer connected to LPT2 on the local computer, type:\\\\nTo send the file  in the c:\\\\\\\\Accounting directory to the Printer1 print queue on the \\\\\\\\\\\\\\\\CopyRoom server, type:\\\\nCommand-Line Syntax Key\\\\nPrint Command Reference\\\\nMode\\\\n']\"}) (input_keys={'text'})\n",
      "Example({'text': \"['Ada Deutschland informiert seit der Entwicklung von Ada 83 über diese Programmiersprache, ihre Weiterentwicklung über Ada 95, Ada 2005 und Ada 2012 und die zugrunde liegenden Konzepte zur Entwicklung sicherer und zuverlässiger Software-Systeme.\\\\nSoftware-Systeme haben sich im Laufe der Zeit funktional massiv erweitert und vergrößert. Die Fehlerproblematik, insbesondere bei syntaktisch und semantisch nicht vollständig definierten Sprachen, kann durch Fehler vermeidende Sprachen wie Ada deutlich besser beherrscht werden.\\\\nAda ist für sicherheitskritische Systemen immer noch erste Wahl, allerdings ist es um sie nach dem großen Hype der 80er Jahre ruhiger geworden. Ada 2012 hat mit der formalen Spezifikation nach Spark neue Impulse für die Zuverlässigkeit von Software gesetzt.\\\\nDer Fokus von Ada Deutschland hat sich dennoch gewandelt, IoT mit dem Problem der Cyber Security setzt neue Anforderungen, die neben der Implementierung insbesondere den Entwurf und die Architektur in den Fokus setzen.\\\\nAda Deutschland informiert über Ada und die zugrunde liegenden Konzepte zur Entwicklung sicherer und zuverlässiger Software-haltiger Systeme durch eigene\\\\n- Tagungen\\\\n- Workshops\\\\n- Online Medien\\\\n- durch Verweise auf Tagungen, Standards und Werkzeuge\\\\n- und durch einen Rückblick auf die Ada-Sprachentwicklung bis heute.\\\\nWir danken AdaCore für die finanzielle Unterstützung im Jahr 2022 und im laufenden Jahr 2023.\\\\n']\"}) (input_keys={'text'})\n"
     ]
    }
   ],
   "source": [
    "load_dotenv()\n",
    "turbo = dspy.OpenAI(model='gpt-3.5-turbo-0125', api_key = os.getenv('OPENAI_API_KEY'))\n",
    "dl = DataLoader()\n",
    "\n",
    "dataset = dl.from_csv(\"data/wikibooks_splited.csv\", fields=(\"text\",), input_keys=(\"text\",))\n",
    "\n",
    "splits = dl.train_test_split(dataset, train_size=0.8) \n",
    "trainset = splits['train']\n",
    "devset = splits['test']\n",
    "\n",
    "print(len(trainset), len(devset))\n",
    "print(trainset[0], devset[0], sep=\"\\n\")"
   ]
  },
  {
   "cell_type": "code",
   "execution_count": 19,
   "metadata": {},
   "outputs": [],
   "source": [
    "output_list = []  \n",
    "llm = LLM_API()\n",
    "for data in dataset[:2]:\n",
    "    prompt = overall_summary.format(text=data['text'])\n",
    "    response = llm.generate_text(prompt)\n",
    "    summary = response.split(\"[End of Notes, Message #1]\")[0].strip()\n",
    "    # print(summary)\n",
    "    output_list.append({\"original_text\": data['text'], \"transformed_test\": summary, \"type\" : \"overall_summary\", \"tag\" : []})\n",
    "\n",
    "\n",
    "# [\"Ada Deutschland has been informing about the programming language Ada since its development in Ada 83, progressing through Ada 95, Ada 2005, and Ada 2012, emphasizing the creation of secure and reliable software systems. Despite the expansion and complexity of software systems over time, Ada remains a top choice for safety-critical systems due to its error-preventing nature. Ada 2012 introduced new reliability impulses with formal specification through Spark. While the focus has shifted towards IoT and Cyber Security challenges, Ada Deutschland continues to educate through conferences, workshops, online resources, and historical insights into Ada's evolution. The organization acknowledges AdaCore for their financial support in 2022 and 2023. [End of Notes, Message #1]\"]"
   ]
  },
  {
   "cell_type": "code",
   "execution_count": 20,
   "metadata": {},
   "outputs": [],
   "source": [
    "import json\n",
    "\n",
    "for data in dataset[:2]:\n",
    "    prompt = different_perspectives.format(text=data['text'])\n",
    "    response = turbo(prompt)\n",
    "    summary = response[0].split(\"[End of Notes, Message #1]\")[0].strip()\n",
    "    # print(summary)\n",
    "    output_list.append({\"original_text\": data['text'], \"transformed_test\": summary, \"type\" : \"different_perspectives\", \"tag\" : []})\n",
    "    \n",
    "with open(\"result/genre_transformation/summary.json\", \"w\") as f:\n",
    "    f.write(json.dumps(output_list, indent=4))"
   ]
  }
 ],
 "metadata": {
  "kernelspec": {
   "display_name": "Python 3",
   "language": "python",
   "name": "python3"
  },
  "language_info": {
   "codemirror_mode": {
    "name": "ipython",
    "version": 3
   },
   "file_extension": ".py",
   "mimetype": "text/x-python",
   "name": "python",
   "nbconvert_exporter": "python",
   "pygments_lexer": "ipython3",
   "version": "3.11.0"
  }
 },
 "nbformat": 4,
 "nbformat_minor": 2
}
